{
  "nbformat": 4,
  "nbformat_minor": 0,
  "metadata": {
    "colab": {
      "name": "p_values.ipynb",
      "provenance": [],
      "authorship_tag": "ABX9TyO1mzzGSzAtb8iCndCB0xie",
      "include_colab_link": true
    },
    "kernelspec": {
      "name": "python3",
      "display_name": "Python 3"
    },
    "widgets": {
      "application/vnd.jupyter.widget-state+json": {
        "0f2ccb81ff4642a699fe803e95f44187": {
          "model_module": "@jupyter-widgets/controls",
          "model_name": "VBoxModel",
          "state": {
            "_view_name": "VBoxView",
            "_dom_classes": [
              "widget-interact"
            ],
            "_model_name": "VBoxModel",
            "_view_module": "@jupyter-widgets/controls",
            "_model_module_version": "1.5.0",
            "_view_count": null,
            "_view_module_version": "1.5.0",
            "box_style": "",
            "layout": "IPY_MODEL_5e08f1c9d8514341944f52f85b4d9dc6",
            "_model_module": "@jupyter-widgets/controls",
            "children": [
              "IPY_MODEL_980d4ea1b6d14e0e92c9ae70788a5c33",
              "IPY_MODEL_bd23552ec6e34139b4410f8d40614da4",
              "IPY_MODEL_ea48c76b787343af8a39a85116765dea"
            ]
          }
        },
        "5e08f1c9d8514341944f52f85b4d9dc6": {
          "model_module": "@jupyter-widgets/base",
          "model_name": "LayoutModel",
          "state": {
            "_view_name": "LayoutView",
            "grid_template_rows": null,
            "right": null,
            "justify_content": null,
            "_view_module": "@jupyter-widgets/base",
            "overflow": null,
            "_model_module_version": "1.2.0",
            "_view_count": null,
            "flex_flow": null,
            "width": null,
            "min_width": null,
            "border": null,
            "align_items": null,
            "bottom": null,
            "_model_module": "@jupyter-widgets/base",
            "top": null,
            "grid_column": null,
            "overflow_y": null,
            "overflow_x": null,
            "grid_auto_flow": null,
            "grid_area": null,
            "grid_template_columns": null,
            "flex": null,
            "_model_name": "LayoutModel",
            "justify_items": null,
            "grid_row": null,
            "max_height": null,
            "align_content": null,
            "visibility": null,
            "align_self": null,
            "height": null,
            "min_height": null,
            "padding": null,
            "grid_auto_rows": null,
            "grid_gap": null,
            "max_width": null,
            "order": null,
            "_view_module_version": "1.2.0",
            "grid_template_areas": null,
            "object_position": null,
            "object_fit": null,
            "grid_auto_columns": null,
            "margin": null,
            "display": null,
            "left": null
          }
        },
        "980d4ea1b6d14e0e92c9ae70788a5c33": {
          "model_module": "@jupyter-widgets/controls",
          "model_name": "IntSliderModel",
          "state": {
            "_view_name": "IntSliderView",
            "style": "IPY_MODEL_11397c451d2246f188cec83f5ef9c5b6",
            "_dom_classes": [],
            "description": "sample_size",
            "step": 1,
            "_model_name": "IntSliderModel",
            "orientation": "horizontal",
            "max": 30,
            "_view_module": "@jupyter-widgets/controls",
            "_model_module_version": "1.5.0",
            "value": 21,
            "_view_count": null,
            "disabled": false,
            "_view_module_version": "1.5.0",
            "min": -10,
            "continuous_update": true,
            "readout_format": "d",
            "description_tooltip": null,
            "readout": true,
            "_model_module": "@jupyter-widgets/controls",
            "layout": "IPY_MODEL_1a6d00d0dc284fcb912dd9168ef30d63"
          }
        },
        "bd23552ec6e34139b4410f8d40614da4": {
          "model_module": "@jupyter-widgets/controls",
          "model_name": "FloatSliderModel",
          "state": {
            "_view_name": "FloatSliderView",
            "style": "IPY_MODEL_484af87c05e44f768af4fa4b39d17979",
            "_dom_classes": [],
            "description": "color_shade",
            "step": 0.1,
            "_model_name": "FloatSliderModel",
            "orientation": "horizontal",
            "max": 1.5,
            "_view_module": "@jupyter-widgets/controls",
            "_model_module_version": "1.5.0",
            "value": 0.5,
            "_view_count": null,
            "disabled": false,
            "_view_module_version": "1.5.0",
            "min": -0.5,
            "continuous_update": true,
            "readout_format": ".2f",
            "description_tooltip": null,
            "readout": true,
            "_model_module": "@jupyter-widgets/controls",
            "layout": "IPY_MODEL_66f0246aa4654a13bf35a4ba9f603d1d"
          }
        },
        "ea48c76b787343af8a39a85116765dea": {
          "model_module": "@jupyter-widgets/output",
          "model_name": "OutputModel",
          "state": {
            "_view_name": "OutputView",
            "msg_id": "",
            "_dom_classes": [],
            "_model_name": "OutputModel",
            "outputs": [
              {
                "output_type": "display_data",
                "metadata": {
                  "tags": []
                },
                "image/png": "iVBORw0KGgoAAAANSUhEUgAAAX0AAAEICAYAAACzliQjAAAABHNCSVQICAgIfAhkiAAAAAlwSFlz\nAAALEgAACxIB0t1+/AAAADh0RVh0U29mdHdhcmUAbWF0cGxvdGxpYiB2ZXJzaW9uMy4yLjEsIGh0\ndHA6Ly9tYXRwbG90bGliLm9yZy+j8jraAAAXd0lEQVR4nO3dfbQddX3v8ffHAKKAiOb4QBIIbWMF\nedTTSJV7JS1grEJaa2sQvdCrK2t1SautDyWyCgiteEtvdSn0Yq6m1IqJlooNGgqxxNJKsTko8gzN\njUoSqIkEeRYMfO4fM8HJYefsfc6ZZO/D7/Naa6/M/OY3M9+9k3z27N/Mni3bREREGZ7T7wIiImLX\nSehHRBQkoR8RUZCEfkREQRL6EREFSehHRBQkoR9TkqRzJH2hnj5A0sOSpvWpllMkXd3i9m6VdGw9\n/fTzbGnbH5H02ba2F1NPQj/GRdIxkq6T9ICkLZK+JelX+lmT7btt7237yba3LekSSU9Ieqh+3CLp\nfEn7NvZ/qe0TetzWn3XrZ/tVtr85ydKRdKykDaO2/THb75nstmPqSuhHzyS9APga8GngRcAM4KPA\n4/2saxf4C9v7AEPA7wFHA9+StFebO5G0W5vbi+gkoR/j8QoA28tsP2n7MdtX274JQNIvSrpG0n2S\nfizpUkkv3LaypB9I+pCkmyQ9Iulzkl4q6cr6KPobkvar+86WZEmLJN0j6V5JH+xUVKPvbvX8NyWd\nV38KeUjS1ZKmN/r/D0k/rOv807qu47o9eds/tb0GOAl4MdUbAJJOk/Rv9bQkfULSJkkPSrpZ0qGS\nFgGnAB+uh6KuaLwmfyLpJuARSbt1qGdPSV+qn8t3JB3ReC6W9EuN+Usk/Vn9hnQlsH+9v4cl7T96\nuEjSSfVw0k/q1+3gUX9fH6z/vh6oa9iz2+sUgy2hH+NxF/CkpL+V9KZtAd0g4Hxgf+BgYBZwzqg+\nvw0cT/UGciJVMH2E6ij6OcAfjuo/D5gDnAD8SS/hXHsHVSi/BNgD+CCApEOAv6YK4JcD+1J9YumZ\n7YeAVcB/67D4BOC/Uz2/fYHfBe6zvQS4lOpTw962T2ysczLwZuCFtrd22OYC4O+pPl19EfiqpN27\n1PgI8Cbgnnp/e9u+p9lH0iuAZcD7qV7/lcAVkvZodPtdYD5wEHA4cNpY+43Bl9CPntl+EDgGMPB/\ngc2SVkh6ab18re1Vth+3vRn4K+ANozbzads/sr0R+Ffg27a/a/unwOXAUaP6f9T2I7ZvBv6GKiB7\n8Te277L9GPBl4Mi6/W3AFbb/zfYTwFn18xmve6hCeLSfAfsArwRk+3bb93bZ1qdsr69r7eQG25fZ\n/hnVa7on1RDTZL0d+Hr9d/Yz4C+B5wGvG1XbPba3AFfw89cxpqiEfoxLHWKn2Z4JHEp1VP9JgHqo\nZrmkjZIeBL4ATB+1iR81ph/rML/3qP7rG9M/rPfXi/9qTD/a2O7+zW3afhS4r8dtNs0AtoxutH0N\ncCFwEbBJ0pL6XMhY1ve63PZTwAZ6fx3Gsj/Va9rc9nq2/+Szo9cxpqiEfkyY7TuAS6jCH+BjVEfN\nh9l+AfBOqiGfyZjVmD6A6gh7Mu4FZm6bkfQ8qvH5nknaGziO6pPKM9j+lO3XAIdQDfN8aNuiHWyy\n2yeNp18DSc+hqn/b6/Ao8PxG35eNY7v3AAc2tq16Xxu7rBdTWEI/eibplZI+IGlmPT+Larjl+rrL\nPsDDwAOSZvDzsJuMP5X0fEmvohqj/9Ikt3cZcKKk19Vj1+fQ4xuTpOdKeg3wVeB+quGm0X1+RdJr\n6zH3R4CfAk/Vi38E/MIEan6NpLfWJ6rfT3W11LbX/EbgHZKmSZrP9sNpPwJerMblpaN8GXizpF+v\n6/1Ave3rJlBjTBEJ/RiPh4DXAt+W9AhV8NxCFRZQXb75auAB4OvAV1rY578Aa4F/Bv7S9qS+BGX7\nVuAPgOVUR/0PA5sY+7LTD0t6iGoY6PPADcDr6pOlo72A6nzH/VRDJ/cBF9TLPgccUl8p89VxlP2P\nVOPv9wPvAt5aj8EDvI/qhPhPqE5OP73d+pPYMmBdvc/thoRs30n1aezTwI/r7ZxYn+uIZynlR1Ri\nEEmaDXwf2H0HV7S0tZ+9qQJzju3v76z9RAyKHOlHcSSdWA8Z7UV1xcrNwA/6W1XErpHQjxItoDqJ\neQ/VdwAWOh95oxAZ3omIKEiO9CMiCjKQN3iaPn26Z8+e3e8yIiKmjBtuuOHHtoe69RvI0J89ezYj\nIyP9LiMiYsqQ9MPuvTK8ExFRlIR+RERBEvoREQVJ6EdEFCShHxFRkIR+RERBEvoREQVJ6EdEFCSh\nHxFRkIH8Rm7EQFp9/vbz8xb3p46ISciRfkREQRL6EREFSehHRBQkoR8RUZCEfkREQbpevSNpKfAW\nYJPtQzss/xBwSmN7BwNDtrdI+gHwEPAksNX2cFuFR0TE+PVypH8JMH9HC21fYPtI20cCi4F/sb2l\n0WVevTyBHxHRZ11D3/a1wJZu/WonA8smVVFEROw0rY3pS3o+1SeCf2g0G7ha0g2SFrW1r4iImJg2\nv5F7IvCtUUM7x9jeKOklwCpJd9SfHJ6hflNYBHDAAQe0WFZERGzT5tU7Cxk1tGN7Y/3nJuByYO6O\nVra9xPaw7eGhoa4/6B4RERPQypG+pH2BNwDvbLTtBTzH9kP19AnAuW3sL2Knyf114lmul0s2lwHH\nAtMlbQDOBnYHsH1x3e23gKttP9JY9aXA5ZK27eeLtv+pvdIjImK8uoa+7ZN76HMJ1aWdzbZ1wBET\nLSwiItqXb+RGRBQkoR8RUZCEfkREQRL6EREFSehHRBQkoR8RUZCEfkREQRL6EREFSehHRBQkoR8R\nUZCEfkREQRL6EREFSehHRBQkoR8RUZCEfkREQRL6EREFSehHRBQkoR8RUZCEfkREQRL6EREF6Rr6\nkpZK2iTplh0sP1bSA5JurB9nNZbNl3SnpLWSzmiz8IiIGL/deuhzCXAh8Pkx+vyr7bc0GyRNAy4C\njgc2AGskrbB92wRrjdj1Vp/f7woiWtX1SN/2tcCWCWx7LrDW9jrbTwDLgQUT2E5ERLSkrTH9X5X0\nPUlXSnpV3TYDWN/os6Fu60jSIkkjkkY2b97cUlkREdHURuh/BzjQ9hHAp4GvTmQjtpfYHrY9PDQ0\n1EJZEREx2qRD3/aDth+up1cCu0uaDmwEZjW6zqzbIiKiTyYd+pJeJkn19Nx6m/cBa4A5kg6StAew\nEFgx2f1FRMTEdb16R9Iy4FhguqQNwNnA7gC2LwbeBvy+pK3AY8BC2wa2SjoduAqYBiy1fetOeRYR\nEdGTrqFv++Quyy+kuqSz07KVwMqJlRYREW3LN3IjIgqS0I+IKEhCPyKiIAn9iIiCJPQjIgqS0I+I\nKEhCPyKiIAn9iIiCJPQjIgqS0I+IKEhCPyKiIAn9iIiCJPQjIgqS0I+IKEhCPyKiIAn9iIiCJPQj\nIgrS9ZezIqJHq8/ffn7e4v7UETGGHOlHRBSka+hLWippk6RbdrD8FEk3SbpZ0nWSjmgs+0HdfqOk\nkTYLj4iI8evlSP8SYP4Yy78PvMH2YcB5wJJRy+fZPtL28MRKjIiItnQd07d9raTZYyy/rjF7PTBz\n8mVFRMTO0PaY/ruBKxvzBq6WdIOkRWOtKGmRpBFJI5s3b265rIiIgBav3pE0jyr0j2k0H2N7o6SX\nAKsk3WH72k7r215CPTQ0PDzstuqKiIifa+VIX9LhwGeBBbbv29Zue2P95ybgcmBuG/uLiIiJmXTo\nSzoA+ArwLtt3Ndr3krTPtmngBKDjFUAREbFrdB3ekbQMOBaYLmkDcDawO4Dti4GzgBcDfy0JYGt9\npc5Lgcvrtt2AL9r+p53wHCIioke9XL1zcpfl7wHe06F9HXDEM9eIiIh+yTdyIyIKktCPiChIQj8i\noiAJ/YiIgiT0IyIKktCPiChIQj8ioiAJ/YiIgiT0IyIKktCPiChIQj8ioiAJ/YiIgiT0IyIK0tov\nZ0VMCavP335+3uL+1BHRJznSj4goSEI/IqIgCf2IiIIk9CMiCpLQj4goSE+hL2mppE2SbtnBckn6\nlKS1km6S9OrGslMl/Wf9OLWtwiMiYvx6PdK/BJg/xvI3AXPqxyLg/wBIehFwNvBaYC5wtqT9Jlps\nRERMTk+hb/taYMsYXRYAn3fleuCFkl4OvBFYZXuL7fuBVYz95hERETtRW2P6M4D1jfkNdduO2p9B\n0iJJI5JGNm/e3FJZERHRNDAncm0vsT1se3hoaKjf5UREPCu1FfobgVmN+Zl1247aIyKiD9q6984K\n4HRJy6lO2j5g+15JVwEfa5y8PQHIzU5icIy+F8+uWjeiT3oKfUnLgGOB6ZI2UF2RszuA7YuBlcBv\nAGuBR4Hfq5dtkXQesKbe1Lm2xzohHBERO1FPoW/75C7LDbx3B8uWAkvHX1pERLRtYE7kRkTEzpfQ\nj4goSEI/IqIgCf2IiIIk9CMiCpLQj4goSEI/IqIgCf2IiIIk9CMiCpLQj4goSEI/IqIgCf2IiIIk\n9CMiCpLQj4goSEI/IqIgCf2IiIIk9CMiCpLQj4goSEI/IqIgPYW+pPmS7pS0VtIZHZZ/QtKN9eMu\nST9pLHuysWxFm8VHRMT4dP1hdEnTgIuA44ENwBpJK2zftq2P7T9q9P8D4KjGJh6zfWR7JUdExET1\ncqQ/F1hre53tJ4DlwIIx+p8MLGujuIiIaFcvoT8DWN+Y31C3PYOkA4GDgGsazXtKGpF0vaTf3NFO\nJC2q+41s3ry5h7IiImK82j6RuxC4zPaTjbYDbQ8D7wA+KekXO61oe4ntYdvDQ0NDLZcVERHQW+hv\nBGY15mfWbZ0sZNTQju2N9Z/rgG+y/Xh/RETsQr2E/hpgjqSDJO1BFezPuApH0iuB/YB/b7TtJ+m5\n9fR04PXAbaPXjYiIXaPr1Tu2t0o6HbgKmAYstX2rpHOBEdvb3gAWAsttu7H6wcBnJD1F9Qbz8eZV\nPxERsWt1DX0A2yuBlaPazho1f06H9a4DDptEfRER0aJ8IzcioiAJ/YiIgiT0IyIKktCPiChIQj8i\noiAJ/YiIgvR0yWZETMDq87efn7e4P3VENORIPyKiIAn9iIiCJPQjIgqS0I+IKEhCPyKiIAn9iIiC\nJPQjIgqS0I+IKEhCPyKiIAn9iIiCJPQjIgqS0I+IKEhPoS9pvqQ7Ja2VdEaH5adJ2izpxvrxnsay\nUyX9Z/04tc3iIyJifLreZVPSNOAi4HhgA7BG0grbt43q+iXbp49a90XA2cAwYOCGet37W6k+IiLG\npZcj/bnAWtvrbD8BLAcW9Lj9NwKrbG+pg34VMH9ipUZExGT1EvozgPWN+Q1122i/LekmSZdJmjXO\ndZG0SNKIpJHNmzf3UFZERIxXWydyrwBm2z6c6mj+b8e7AdtLbA/bHh4aGmqprIiIaOol9DcCsxrz\nM+u2p9m+z/bj9exngdf0um5EROw6vYT+GmCOpIMk7QEsBFY0O0h6eWP2JOD2evoq4ARJ+0naDzih\nbouIiD7oevWO7a2STqcK62nAUtu3SjoXGLG9AvhDSScBW4EtwGn1ulsknUf1xgFwru0tO+F5RERE\nD3r6YXTbK4GVo9rOakwvBjr+6rPtpcDSSdQYEREtyTdyIyIKktCPiChIT8M7EbETrD5/+/l5HUdI\nI1qVI/2IiIIk9CMiCpLQj4goSEI/IqIgCf2IiIIk9CMiCpJLNmPK+cSquya87tF339diJeNz/dbt\n6x5dy+jl2/zR8a/YaTVFeXKkHxFRkIR+RERBEvoREQVJ6EdEFCQnciN2kaPvXtLvEiJypB8RUZKE\nfkREQRL6EREFSehHRBSkp9CXNF/SnZLWSjqjw/I/lnSbpJsk/bOkAxvLnpR0Y/1Y0WbxERExPl2v\n3pE0DbgIOB7YAKyRtML2bY1u3wWGbT8q6feBvwDeXi97zPaRLdcdERET0MuR/lxgre11tp8AlgML\nmh1sr7b9aD17PTCz3TIjIqINvYT+DGB9Y35D3bYj7waubMzvKWlE0vWSfnMCNUZEREta/XKWpHcC\nw8AbGs0H2t4o6ReAayTdbPv/dVh3EbAI4IADDmizrIiIqPVypL8RmNWYn1m3bUfSccCZwEm2H9/W\nbntj/ec64JvAUZ12YnuJ7WHbw0NDQz0/gYiI6F0vob8GmCPpIEl7AAuB7a7CkXQU8BmqwN/UaN9P\n0nPr6enA64HmCeCIiNiFug7v2N4q6XTgKmAasNT2rZLOBUZsrwAuAPYG/l4SwN22TwIOBj4j6Smq\nN5iPj7rqJ6awyfyYSfSuX69zfrzl2amnMX3bK4GVo9rOakwft4P1rgMOm0yBERHRnnwjNyKiIAn9\niIiCJPQjIgqS0I+IKEhCPyKiIAn9iIiCJPQjIgqS0I+IKEhCPyKiIAn9iIiCJPQjIgqS0I+IKEhC\nPyKiIK3+clZEPHv089bZua3zzpPQn+JyT/uIGI8M70REFCShHxFRkIR+RERBEvoREQVJ6EdEFKSn\n0Jc0X9KdktZKOqPD8udK+lK9/NuSZjeWLa7b75T0xvZKj4iI8ep6yaakacBFwPHABmCNpBW2b2t0\nezdwv+1fkrQQ+F/A2yUdAiwEXgXsD3xD0itsP9n2E+m3XDoZ0Z5+/X8q4fsBvVynPxdYa3sdgKTl\nwAKgGfoLgHPq6cuACyWpbl9u+3Hg+5LW1tv793bKf6aEb0RMVAlvNr2E/gxgfWN+A/DaHfWxvVXS\nA8CL6/brR607o9NOJC0CFtWzj0u6pYfa+mk68ON+F9GD1NmunVjn/25zY3k927VT6/zjdjbzy710\nGphv5NpeAiwBkDRie7jPJY1pKtQIqbNtqbNdqbM9kkZ66dfLidyNwKzG/My6rWMfSbsB+wL39bhu\nRETsIr2E/hpgjqSDJO1BdWJ2xag+K4BT6+m3AdfYdt2+sL665yBgDvAf7ZQeERHj1XV4px6jPx24\nCpgGLLV9q6RzgRHbK4DPAX9Xn6jdQvXGQN3vy1QnfbcC7+3xyp0lE3s6u9RUqBFSZ9tSZ7tSZ3t6\nqlHVAXlERJQg38iNiChIQj8ioiADHfqSPiDJkqb3u5ZOJJ0n6SZJN0q6WtL+/a6pE0kXSLqjrvVy\nSS/sd02dSPodSbdKekrSQF0e1+1WJINC0lJJmwb5ey6SZklaLem2+u/7ff2uqRNJe0r6D0nfq+v8\naL9rGoukaZK+K+lrY/Ub2NCXNAs4Abi737WM4QLbh9s+EvgacFa/C9qBVcChtg8H7gIW97meHbkF\neCtwbb8LaWrciuRNwCHAyfUtRgbRJcD8fhfRxVbgA7YPAY4G3jugr+fjwK/ZPgI4Epgv6eg+1zSW\n9wG3d+s0sKEPfAL4MDCwZ5ptP9iY3YsBrdX21ba31rPXU31fYuDYvt32nf2uo4Onb0Vi+wlg261I\nBo7ta6muoBtYtu+1/Z16+iGqoOr4Tf1+cuXhenb3+jGQ/8clzQTeDHy2W9+BDH1JC4CNtr/X71q6\nkfTnktYDpzC4R/pN/xO4st9FTDGdbkUycCE1FdV35D0K+HZ/K+msHjK5EdgErLI9kHUCn6Q6SH6q\nW8e+3YZB0jeAl3VYdCbwEaqhnb4bq07b/2j7TOBMSYuB04Gzd2mBtW511n3OpPpofemurK2plzqj\nDJL2Bv4BeP+oT80Do/5e0ZH1ebDLJR1qe6DOl0h6C7DJ9g2Sju3Wv2+hb/u4Tu2SDgMOAr5X3aiT\nmcB3JM21/V+7sERgx3V2cCmwkj6Ffrc6JZ0GvAX4dffxyxnjeD0HSW4n0jJJu1MF/qW2v9Lverqx\n/RNJq6nOlwxU6AOvB06S9BvAnsALJH3B9js7dR644R3bN9t+ie3ZtmdTfZR+dT8CvxtJcxqzC4A7\n+lXLWCTNp/rod5LtR/tdzxTUy61Iokf1bdc/B9xu+6/6Xc+OSBradqWbpOdR/abIwP0ft73Y9sw6\nLxdS3QanY+DDAIb+FPNxSbdIuolqOGogLz0DLgT2AVbVl5de3O+COpH0W5I2AL8KfF3SVf2uCapb\nkVAN3V1FddLxy7Zv7W9VnUlaRvV7Fb8saYOkd/e7pg5eD7wL+LX63+ON9VHqoHk5sLr+/72Gakx/\nzMshp4LchiEioiA50o+IKEhCPyKiIAn9iIiCJPQjIgqS0I+IKEhCPyKiIAn9iIiC/H8cujSE2mqR\n2QAAAABJRU5ErkJggg==\n",
                "text/plain": "<Figure size 432x288 with 1 Axes>"
              }
            ],
            "_view_module": "@jupyter-widgets/output",
            "_model_module_version": "1.0.0",
            "_view_count": null,
            "_view_module_version": "1.0.0",
            "layout": "IPY_MODEL_b47604f2ecbb410d8afbda044b3649d8",
            "_model_module": "@jupyter-widgets/output"
          }
        },
        "11397c451d2246f188cec83f5ef9c5b6": {
          "model_module": "@jupyter-widgets/controls",
          "model_name": "SliderStyleModel",
          "state": {
            "_view_name": "StyleView",
            "handle_color": null,
            "_model_name": "SliderStyleModel",
            "description_width": "",
            "_view_module": "@jupyter-widgets/base",
            "_model_module_version": "1.5.0",
            "_view_count": null,
            "_view_module_version": "1.2.0",
            "_model_module": "@jupyter-widgets/controls"
          }
        },
        "1a6d00d0dc284fcb912dd9168ef30d63": {
          "model_module": "@jupyter-widgets/base",
          "model_name": "LayoutModel",
          "state": {
            "_view_name": "LayoutView",
            "grid_template_rows": null,
            "right": null,
            "justify_content": null,
            "_view_module": "@jupyter-widgets/base",
            "overflow": null,
            "_model_module_version": "1.2.0",
            "_view_count": null,
            "flex_flow": null,
            "width": null,
            "min_width": null,
            "border": null,
            "align_items": null,
            "bottom": null,
            "_model_module": "@jupyter-widgets/base",
            "top": null,
            "grid_column": null,
            "overflow_y": null,
            "overflow_x": null,
            "grid_auto_flow": null,
            "grid_area": null,
            "grid_template_columns": null,
            "flex": null,
            "_model_name": "LayoutModel",
            "justify_items": null,
            "grid_row": null,
            "max_height": null,
            "align_content": null,
            "visibility": null,
            "align_self": null,
            "height": null,
            "min_height": null,
            "padding": null,
            "grid_auto_rows": null,
            "grid_gap": null,
            "max_width": null,
            "order": null,
            "_view_module_version": "1.2.0",
            "grid_template_areas": null,
            "object_position": null,
            "object_fit": null,
            "grid_auto_columns": null,
            "margin": null,
            "display": null,
            "left": null
          }
        },
        "484af87c05e44f768af4fa4b39d17979": {
          "model_module": "@jupyter-widgets/controls",
          "model_name": "SliderStyleModel",
          "state": {
            "_view_name": "StyleView",
            "handle_color": null,
            "_model_name": "SliderStyleModel",
            "description_width": "",
            "_view_module": "@jupyter-widgets/base",
            "_model_module_version": "1.5.0",
            "_view_count": null,
            "_view_module_version": "1.2.0",
            "_model_module": "@jupyter-widgets/controls"
          }
        },
        "66f0246aa4654a13bf35a4ba9f603d1d": {
          "model_module": "@jupyter-widgets/base",
          "model_name": "LayoutModel",
          "state": {
            "_view_name": "LayoutView",
            "grid_template_rows": null,
            "right": null,
            "justify_content": null,
            "_view_module": "@jupyter-widgets/base",
            "overflow": null,
            "_model_module_version": "1.2.0",
            "_view_count": null,
            "flex_flow": null,
            "width": null,
            "min_width": null,
            "border": null,
            "align_items": null,
            "bottom": null,
            "_model_module": "@jupyter-widgets/base",
            "top": null,
            "grid_column": null,
            "overflow_y": null,
            "overflow_x": null,
            "grid_auto_flow": null,
            "grid_area": null,
            "grid_template_columns": null,
            "flex": null,
            "_model_name": "LayoutModel",
            "justify_items": null,
            "grid_row": null,
            "max_height": null,
            "align_content": null,
            "visibility": null,
            "align_self": null,
            "height": null,
            "min_height": null,
            "padding": null,
            "grid_auto_rows": null,
            "grid_gap": null,
            "max_width": null,
            "order": null,
            "_view_module_version": "1.2.0",
            "grid_template_areas": null,
            "object_position": null,
            "object_fit": null,
            "grid_auto_columns": null,
            "margin": null,
            "display": null,
            "left": null
          }
        }
      }
    }
  },
  "cells": [
    {
      "cell_type": "markdown",
      "metadata": {
        "id": "view-in-github",
        "colab_type": "text"
      },
      "source": [
        "<a href=\"https://colab.research.google.com/github/tejassavalia7/Psych640/blob/master/p_values.ipynb\" target=\"_parent\"><img src=\"https://colab.research.google.com/assets/colab-badge.svg\" alt=\"Open In Colab\"/></a>"
      ]
    },
    {
      "cell_type": "code",
      "metadata": {
        "id": "3ESOCZClVjG1",
        "colab_type": "code",
        "colab": {}
      },
      "source": [
        "import numpy as np\n",
        "import matplotlib.pyplot as plt\n",
        "from __future__ import print_function\n",
        "from ipywidgets import interact, interactive, fixed, interact_manual\n",
        "import ipywidgets as widgets\n"
      ],
      "execution_count": 0,
      "outputs": []
    },
    {
      "cell_type": "markdown",
      "metadata": {
        "id": "wnCtsqxtc9Rt",
        "colab_type": "text"
      },
      "source": [
        "# Define A Population with:\n",
        "##  Mean = 0, \n",
        "## Standard Deviation = 1, \n",
        "## The total number of items in a population: 10000"
      ]
    },
    {
      "cell_type": "code",
      "metadata": {
        "id": "rVQlTxcmVpqq",
        "colab_type": "code",
        "colab": {}
      },
      "source": [
        "mu, sigma = 0, 1\n",
        "num_population = 10000\n",
        "data = np.random.normal(mu, sigma, num_population)"
      ],
      "execution_count": 0,
      "outputs": []
    },
    {
      "cell_type": "markdown",
      "metadata": {
        "id": "gvTiYRF2da-d",
        "colab_type": "text"
      },
      "source": [
        "# Plot Population Density"
      ]
    },
    {
      "cell_type": "code",
      "metadata": {
        "id": "BClZhqhubWId",
        "colab_type": "code",
        "outputId": "4e18a44a-f833-47fd-8bca-4e683cfa9774",
        "colab": {
          "base_uri": "https://localhost:8080/",
          "height": 369
        }
      },
      "source": [
        "plt.hist(data, density= True)"
      ],
      "execution_count": 0,
      "outputs": [
        {
          "output_type": "execute_result",
          "data": {
            "text/plain": [
              "(array([0.00290788, 0.01772425, 0.08058994, 0.21573732, 0.36791659,\n",
              "        0.36763965, 0.2243225 , 0.08432864, 0.02021672, 0.0033233 ]),\n",
              " array([-3.63340298, -2.91122843, -2.18905388, -1.46687933, -0.74470478,\n",
              "        -0.02253023,  0.69964431,  1.42181886,  2.14399341,  2.86616796,\n",
              "         3.58834251]),\n",
              " <a list of 10 Patch objects>)"
            ]
          },
          "metadata": {
            "tags": []
          },
          "execution_count": 90
        },
        {
          "output_type": "display_data",
          "data": {
            "image/png": "[encoded data removed]",
            "text/plain": [
              "<Figure size 432x288 with 1 Axes>"
            ]
          },
          "metadata": {
            "tags": []
          }
        }
      ]
    },
    {
      "cell_type": "markdown",
      "metadata": {
        "id": "H_B1X5nSdfjl",
        "colab_type": "text"
      },
      "source": [
        "# Create a Sampling Distribution of means with variable Sample sizes. \n",
        "## A sampling distribution of means is created as follows\n",
        "1. For a sample size of, say, 20, take a random sample of 20 items from the population.\n",
        "2. Calculate the mean of that sample.\n",
        "3. Repeat steps 1 and 2 for lots of samples (In the code below, I've taken 100 such samples)\n",
        "4. Plot the means of those samples. (In the code below, there are 100 means)"
      ]
    },
    {
      "cell_type": "code",
      "metadata": {
        "id": "WpROOjofbgXC",
        "colab_type": "code",
        "colab": {}
      },
      "source": [
        "def plot_sampling_distribution(sample_size, color_shade = 0.5):\n",
        "  num_samples = 100\n",
        "  sample_means = np.zeros((num_samples))\n",
        "  for sample in range(num_samples):\n",
        "    sample_means[sample] = np.mean(np.random.choice(data, sample_size))\n",
        "  plt.hist(data, alpha = 0.5, density=True)\n",
        "  plt.hist(sample_means, alpha = color_shade, density=True)\n",
        "  plt.xlim((-4, 4))\n",
        "  text = \"Sample Size: \" + str(sample_size)\n",
        "  plt.title('Sampling Distribution')\n",
        "  #plt.text(x = 2, y = 1, s = text)"
      ],
      "execution_count": 0,
      "outputs": []
    },
    {
      "cell_type": "markdown",
      "metadata": {
        "id": "bjo7Pm0JdkS2",
        "colab_type": "text"
      },
      "source": [
        "# Adjust the slider below to play with sample sizes"
      ]
    },
    {
      "cell_type": "code",
      "metadata": {
        "id": "hf80R8l6cYMz",
        "colab_type": "code",
        "outputId": "a7822177-067f-4b92-e7f0-e17743ef5ccd",
        "colab": {
          "base_uri": "https://localhost:8080/",
          "height": 363,
          "referenced_widgets": [
            "0f2ccb81ff4642a699fe803e95f44187",
            "5e08f1c9d8514341944f52f85b4d9dc6",
            "980d4ea1b6d14e0e92c9ae70788a5c33",
            "bd23552ec6e34139b4410f8d40614da4",
            "ea48c76b787343af8a39a85116765dea",
            "11397c451d2246f188cec83f5ef9c5b6",
            "1a6d00d0dc284fcb912dd9168ef30d63",
            "484af87c05e44f768af4fa4b39d17979",
            "66f0246aa4654a13bf35a4ba9f603d1d"
          ]
        }
      },
      "source": [
        "interact(plot_sampling_distribution, sample_size=10, color_shade = 0.5, min = 2, max = 20)"
      ],
      "execution_count": 0,
      "outputs": [
        {
          "output_type": "display_data",
          "data": {
            "application/vnd.jupyter.widget-view+json": {
              "model_id": "0f2ccb81ff4642a699fe803e95f44187",
              "version_minor": 0,
              "version_major": 2
            },
            "text/plain": [
              "interactive(children=(IntSlider(value=10, description='sample_size', max=30, min=-10), FloatSlider(value=0.5, …"
            ]
          },
          "metadata": {
            "tags": []
          }
        },
        {
          "output_type": "execute_result",
          "data": {
            "text/plain": [
              "<function __main__.plot_sampling_distribution>"
            ]
          },
          "metadata": {
            "tags": []
          },
          "execution_count": 92
        }
      ]
    },
    {
      "cell_type": "markdown",
      "metadata": {
        "id": "DPdLgNAmprSz",
        "colab_type": "text"
      },
      "source": [
        "# p-values\n",
        "1. Suppose you're told that mean of a population is 0. But your intuition says that it is not. Your alternate hypothesis is that the actual mean is not equal to 0.\n",
        "2. Suppose you're right in your intuition. The actual population mean is 0.5 (standard deviation 1).\n",
        "3. Now you draw samples from this actual population and take a mean of these samples. \n",
        "4. How does this mean compare to the sampling distribution of the null hypothesis?"
      ]
    },
    {
      "cell_type": "code",
      "metadata": {
        "id": "J3neS1PJfYyc",
        "colab_type": "code",
        "colab": {}
      },
      "source": [
        "alternate_hypothesis = 0.5\n",
        "sample_size = 20\n",
        "#Normally distributed sample of size 20. Mean 0.5, SD 1. This is a sample from the real, 'correct' world.\n",
        "data_alternate = np.random.normal(0.5, 1, sample_size)"
      ],
      "execution_count": 0,
      "outputs": []
    },
    {
      "cell_type": "code",
      "metadata": {
        "id": "bg0CLD_BstTn",
        "colab_type": "code",
        "outputId": "94e8ab89-3ed1-4dcc-e1bb-6faa925c928e",
        "colab": {
          "base_uri": "https://localhost:8080/",
          "height": 368
        }
      },
      "source": [
        "plot_sampling_distribution(sample_size = 100, color_shade= 1)\n",
        "plt.hist(np.mean(data_alternate))"
      ],
      "execution_count": 0,
      "outputs": [
        {
          "output_type": "execute_result",
          "data": {
            "text/plain": [
              "(array([0., 0., 0., 0., 0., 1., 0., 0., 0., 0.]),\n",
              " array([-0.10658007, -0.00658007,  0.09341993,  0.19341993,  0.29341993,\n",
              "         0.39341993,  0.49341993,  0.59341993,  0.69341993,  0.79341993,\n",
              "         0.89341993]),\n",
              " <a list of 10 Patch objects>)"
            ]
          },
          "metadata": {
            "tags": []
          },
          "execution_count": 98
        },
        {
          "output_type": "display_data",
          "data": {
            "image/png": "[encoded data removed]",
            "text/plain": [
              "<Figure size 432x288 with 1 Axes>"
            ]
          },
          "metadata": {
            "tags": []
          }
        }
      ]
    },
    {
      "cell_type": "code",
      "metadata": {
        "id": "vU_UJSYXs3eO",
        "colab_type": "code",
        "colab": {}
      },
      "source": [
        ""
      ],
      "execution_count": 0,
      "outputs": []
    }
  ]
}